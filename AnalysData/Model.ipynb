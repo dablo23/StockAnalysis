{
 "cells": [
  {
   "cell_type": "markdown",
   "metadata": {},
   "source": [
    "# Analyse File"
   ]
  },
  {
   "cell_type": "code",
   "execution_count": 63,
   "metadata": {},
   "outputs": [
    {
     "name": "stdout",
     "output_type": "stream",
     "text": [
      "Disconnected: the connection is now closed.\n",
      "Disconnected: the connection is now closed.\n"
     ]
    }
   ],
   "source": [
    "#General imports\n",
    "import sys\n",
    "import pandas as pd\n",
    "import numpy as np\n",
    "import seaborn as sns\n",
    "\n",
    "#Project specific imports\n",
    "sys.path.insert(0, r'..\\Data')\n",
    "from MyPostgreSQL import MyPostgreSQL\n"
   ]
  },
  {
   "cell_type": "code",
   "execution_count": 64,
   "metadata": {},
   "outputs": [
    {
     "name": "stdout",
     "output_type": "stream",
     "text": [
      "Connecting to database server...\n",
      "Connection established to:  ('PostgreSQL 14.0, compiled by Visual C++ build 1914, 64-bit',)\n",
      "Constructor: The ticker is set to \"AAPL\" and absolut data path is \"C:\\Users\\david\\OneDrive\\Code\\StockAnalysis\\Data\\SP500\\\"\n",
      "Disconnected: the connection is now closed.\n"
     ]
    }
   ],
   "source": [
    "def getSMA(days, ticker):\n",
    "    \"Return a Dataframe of the moving average of <days> (input value) samples on table <ticker> (input value)\"\n",
    "    MyClass = MyPostgreSQL()\n",
    "    (conn, cursor) = MyClass.getConnCursor()\n",
    "\n",
    "    query = f\"\"\" \n",
    "            SELECT date, adj_close, AVG(adj_close)\n",
    "            OVER(\n",
    "                ORDER BY date\n",
    "                ROWS BETWEEN {days-1} PRECEDING AND CURRENT ROW\n",
    "            ) AS SMA\n",
    "            FROM {ticker};\n",
    "            \"\"\"\n",
    "    \n",
    "    cursor.execute(query)\n",
    "    \n",
    "    rows = cursor.fetchall()\n",
    "    df = pd.DataFrame(rows, columns=['date', 'adj_close', f'MA{days}'])\n",
    "    df.set_index('date', inplace=True)\n",
    "    return df\n",
    "\n",
    "number = 3\n",
    "df = getSMA(number, 'AAPL')\n",
    "\n"
   ]
  },
  {
   "cell_type": "code",
   "execution_count": 65,
   "metadata": {},
   "outputs": [
    {
     "name": "stdout",
     "output_type": "stream",
     "text": [
      "Connecting to database server...\n",
      "Connection established to:  ('PostgreSQL 14.0, compiled by Visual C++ build 1914, 64-bit',)\n",
      "Constructor: The ticker is set to \"AAPL\" and absolut data path is \"C:\\Users\\david\\OneDrive\\Code\\StockAnalysis\\Data\\SP500\\\"\n",
      "Disconnected: the connection is now closed.\n",
      "Connecting to database server...\n",
      "Connection established to:  ('PostgreSQL 14.0, compiled by Visual C++ build 1914, 64-bit',)\n",
      "Constructor: The ticker is set to \"AAPL\" and absolut data path is \"C:\\Users\\david\\OneDrive\\Code\\StockAnalysis\\Data\\SP500\\\"\n",
      "Disconnected: the connection is now closed.\n"
     ]
    }
   ],
   "source": [
    "df_50 = getSMA(50, 'AAPL')\n",
    "df_200 = getSMA(200, 'AAPL')"
   ]
  },
  {
   "cell_type": "code",
   "execution_count": 69,
   "metadata": {},
   "outputs": [
    {
     "data": {
      "text/plain": [
       "<matplotlib.axes._subplots.AxesSubplot at 0x1cb03e3da90>"
      ]
     },
     "execution_count": 69,
     "metadata": {},
     "output_type": "execute_result"
    },
    {
     "data": {
      "image/png": "[encoded data removed]",
      "text/plain": [
       "<Figure size 432x288 with 1 Axes>"
      ]
     },
     "metadata": {
      "needs_background": "light"
     },
     "output_type": "display_data"
    }
   ],
   "source": [
    "\n",
    "sns.lineplot(x=df_50.index, y=df_50['MA50'])\n",
    "sns.lineplot(x=df_50.index, y=df_50['adj_close'])\n"
   ]
  },
  {
   "cell_type": "code",
   "execution_count": 67,
   "metadata": {},
   "outputs": [
    {
     "name": "stdout",
     "output_type": "stream",
     "text": [
      "Connecting to database server...\n",
      "Connection established to:  ('PostgreSQL 14.0, compiled by Visual C++ build 1914, 64-bit',)\n",
      "Constructor: The ticker is set to \"AAPL\" and absolut data path is \"C:\\Users\\david\\OneDrive\\Code\\StockAnalysis\\Data\\SP500\\\"\n",
      "Disconnected: the connection is now closed.\n",
      "Data is  (7922,)\n"
     ]
    }
   ],
   "source": [
    "query = \"\"\" \n",
    "        SELECT COUNT(*) as num\n",
    "        FROM aapl;\n",
    "        \"\"\"\n",
    "\n",
    "MyClass = MyPostgreSQL()\n",
    "(conn, cursor) = MyClass.getConnCursor()\n",
    "cursor.execute(query)\n",
    "data = cursor.fetchone()\n",
    "print( 'Data is ', data)"
   ]
  }
 ],
 "metadata": {
  "interpreter": {
   "hash": "eea840d32bf56a928ee27a035e52aac990f88e7d3a2b564ede6a6b77b7629b2f"
  },
  "kernelspec": {
   "display_name": "Python 3.8.0 64-bit",
   "name": "python3"
  },
  "language_info": {
   "codemirror_mode": {
    "name": "ipython",
    "version": 3
   },
   "file_extension": ".py",
   "mimetype": "text/x-python",
   "name": "python",
   "nbconvert_exporter": "python",
   "pygments_lexer": "ipython3",
   "version": "3.8.0"
  },
  "orig_nbformat": 4
 },
 "nbformat": 4,
 "nbformat_minor": 2
}
